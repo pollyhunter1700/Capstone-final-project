{
 "cells": [
  {
   "cell_type": "markdown",
   "id": "b993c7ff",
   "metadata": {},
   "source": [
    "# 🎮 GameIntel AI – Sentiment + Simulated Scene Classification\n",
    "\n",
    "✅ Final Project Notebook: Fully Commented & Annotated\n",
    "\n",
    "- **Part 1:** Real sentiment analysis (Steam reviews)\n",
    "- **Part 2:** Simulated scene classification + Grad-CAM\n",
    "\n",
    "⚠️ Note: The CV (scene classification) section is simulated. Replace simulated data with real screenshots in `screenshots/` directory when available.\n",
    "\n",
    "---\n",
    "\n",
    "### 📋 Run With Real Data Checklist\n",
    "✅ Prepare folders like:\n",
    "```\n",
    "screenshots/\n",
    "├── combat/\n",
    "├── menu/\n",
    "├── shop/\n",
    "├── cutscene/\n",
    "```\n",
    "✅ Replace the simulated data cell with `ImageDataGenerator.flow_from_directory()`.\n",
    "✅ Train ResNet50 as shown.\n"
   ]
  },
  {
   "cell_type": "markdown",
   "id": "b525f77a",
   "metadata": {},
   "source": [
    "## 🔍 Part 1: Sentiment Prediction – Real Data"
   ]
  },
  {
   "cell_type": "code",
   "execution_count": null,
   "id": "faf6beab",
   "metadata": {},
   "outputs": [],
   "source": [
    "\n",
    "# Load Steam reviews dataset\n",
    "import pandas as pd\n",
    "\n",
    "df = pd.read_csv(\"steam_reviews.csv\")  # make sure this file is in the same folder\n",
    "# Calculate sentiment score: positive vs total ratings\n",
    "df['sentiment_score'] = df['positive_ratings'] / (df['positive_ratings'] + df['negative_ratings'])\n",
    "df['sentiment_label'] = df['sentiment_score'].apply(lambda x: 'Positive' if x > 0.75 else 'Negative')\n",
    "df[['sentiment_score', 'sentiment_label']].head()\n"
   ]
  },
  {
   "cell_type": "code",
   "execution_count": null,
   "id": "8838fcfa",
   "metadata": {},
   "outputs": [],
   "source": [
    "\n",
    "# Train a Random Forest on price & playtime to predict sentiment\n",
    "from sklearn.model_selection import train_test_split\n",
    "from sklearn.ensemble import RandomForestClassifier\n",
    "from sklearn.metrics import classification_report, roc_curve\n",
    "import matplotlib.pyplot as plt\n",
    "import seaborn as sns\n",
    "\n",
    "df_model = df[['price', 'average_playtime', 'sentiment_label']].dropna()\n",
    "df_model['sentiment_label'] = df_model['sentiment_label'].map({'Positive':1, 'Negative':0})\n",
    "X = df_model[['price', 'average_playtime']]\n",
    "y = df_model['sentiment_label']\n",
    "X_train, X_test, y_train, y_test = train_test_split(X, y, test_size=0.2, random_state=42)\n",
    "\n",
    "model = RandomForestClassifier()\n",
    "model.fit(X_train, y_train)\n",
    "y_pred = model.predict(X_test)\n",
    "\n",
    "print(classification_report(y_test, y_pred))\n",
    "\n",
    "# ROC curve\n",
    "y_prob = model.predict_proba(X_test)[:,1]\n",
    "fpr, tpr, _ = roc_curve(y_test, y_prob)\n",
    "plt.plot(fpr, tpr)\n",
    "plt.xlabel(\"False Positive Rate\")\n",
    "plt.ylabel(\"True Positive Rate\")\n",
    "plt.title(\"ROC Curve\")\n",
    "plt.show()\n"
   ]
  },
  {
   "cell_type": "code",
   "execution_count": null,
   "id": "06c03ad4",
   "metadata": {},
   "outputs": [],
   "source": [
    "\n",
    "# Feature importance\n",
    "importance = model.feature_importances_\n",
    "sns.barplot(x=importance, y=X.columns)\n",
    "plt.title(\"Feature Importance\")\n",
    "plt.show()\n"
   ]
  },
  {
   "cell_type": "markdown",
   "id": "510842f6",
   "metadata": {},
   "source": [
    "## 🖼️ Part 2: Simulated Scene Classification + Grad-CAM\n",
    "\n",
    "⚠️ This section uses simulated data.\n",
    "- Replace `X_fake` with real data from `screenshots/` when available.\n",
    "- Keep folder structure as mentioned in checklist.\n"
   ]
  },
  {
   "cell_type": "code",
   "execution_count": null,
   "id": "36b837c2",
   "metadata": {},
   "outputs": [],
   "source": [
    "\n",
    "# Simulate images and labels\n",
    "import numpy as np\n",
    "from tensorflow.keras.utils import to_categorical\n",
    "from sklearn.model_selection import train_test_split\n",
    "import tensorflow as tf\n",
    "from tensorflow.keras.applications import ResNet50\n",
    "from tensorflow.keras.layers import Dense, GlobalAveragePooling2D\n",
    "from tensorflow.keras.models import Model\n",
    "\n",
    "X_fake = np.random.rand(500, 224, 224, 3)\n",
    "y_fake = np.random.choice([0, 1, 2, 3], size=500)  # 4 classes\n",
    "y_fake_cat = to_categorical(y_fake)\n",
    "\n",
    "X_train, X_val, y_train, y_val = train_test_split(X_fake, y_fake_cat, test_size=0.2)\n",
    "\n",
    "base_model = ResNet50(weights=None, include_top=False, input_shape=(224,224,3))\n",
    "x = GlobalAveragePooling2D()(base_model.output)\n",
    "output = Dense(4, activation='softmax')(x)\n",
    "model_cv = Model(inputs=base_model.input, outputs=output)\n",
    "\n",
    "model_cv.compile(optimizer='adam', loss='categorical_crossentropy', metrics=['accuracy'])\n",
    "history = model_cv.fit(X_train, y_train, validation_data=(X_val, y_val), epochs=3)\n"
   ]
  },
  {
   "cell_type": "code",
   "execution_count": null,
   "id": "4203b3bc",
   "metadata": {},
   "outputs": [],
   "source": [
    "\n",
    "# Simulated training accuracy plot\n",
    "import matplotlib.pyplot as plt\n",
    "\n",
    "plt.plot(history.history['accuracy'], label='train acc')\n",
    "plt.plot(history.history['val_accuracy'], label='val acc')\n",
    "plt.legend()\n",
    "plt.title(\"Simulated ResNet50 Training Accuracy\")\n",
    "plt.show()\n"
   ]
  },
  {
   "cell_type": "markdown",
   "id": "c1473f26",
   "metadata": {},
   "source": [
    "## 🔥 Simulated Grad-CAM Example"
   ]
  },
  {
   "cell_type": "code",
   "execution_count": null,
   "id": "2cdac742",
   "metadata": {},
   "outputs": [],
   "source": [
    "\n",
    "# Simulate Grad-CAM on a random image\n",
    "import cv2\n",
    "\n",
    "sample_img = np.random.rand(224,224,3)\n",
    "img_tensor = np.expand_dims(sample_img, axis=0)\n",
    "\n",
    "grad_model = tf.keras.models.Model([model_cv.inputs], [model_cv.get_layer('conv5_block3_out').output, model_cv.output])\n",
    "\n",
    "with tf.GradientTape() as tape:\n",
    "    conv_outputs, predictions = grad_model(img_tensor)\n",
    "    loss = predictions[:, tf.argmax(predictions[0])]\n",
    "\n",
    "grads = tape.gradient(loss, conv_outputs)[0]\n",
    "pooled_grads = tf.reduce_mean(grads, axis=(0, 1, 2))\n",
    "cam = tf.reduce_sum(tf.multiply(pooled_grads, conv_outputs[0]), axis=-1)\n",
    "\n",
    "cam = np.maximum(cam, 0) / tf.reduce_max(cam)\n",
    "cam = cv2.resize(cam.numpy(), (224, 224))\n",
    "heatmap = cv2.applyColorMap(np.uint8(255*cam), cv2.COLORMAP_JET)\n",
    "superimposed_img = heatmap*0.4 + sample_img*255\n",
    "\n",
    "plt.imshow(superimposed_img.astype(\"uint8\"))\n",
    "plt.title(\"Simulated Grad-CAM Heatmap\")\n",
    "plt.axis(\"off\")\n",
    "plt.show()\n"
   ]
  },
  {
   "cell_type": "markdown",
   "id": "671784c4",
   "metadata": {},
   "source": [
    "## 📝 Conclusion\n",
    "\n",
    "- 📄 Part 1: Successfully analyzed Steam review sentiment with Random Forest.\n",
    "- 🖼️ Part 2: Demonstrated scene classification pipeline with simulated data.\n",
    "- 🔜 When real screenshots are available, replace simulated data with real images.\n",
    "\n",
    "🎯 Next steps: Integrate real data + deploy Streamlit dashboard for interactive use.\n"
   ]
  }
 ],
 "metadata": {},
 "nbformat": 4,
 "nbformat_minor": 5
}
